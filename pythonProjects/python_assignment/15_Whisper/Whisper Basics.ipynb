{
 "cells": [
  {
   "cell_type": "code",
   "execution_count": 7,
   "id": "39d7ac80",
   "metadata": {
    "ExecuteTime": {
     "end_time": "2023-10-10T00:27:53.870174600Z",
     "start_time": "2023-10-10T00:27:53.822695900Z"
    }
   },
   "outputs": [],
   "source": [
    "import openai"
   ]
  },
  {
   "cell_type": "code",
   "execution_count": 8,
   "id": "96de38cc",
   "metadata": {
    "ExecuteTime": {
     "end_time": "2023-10-10T00:27:53.870174600Z",
     "start_time": "2023-10-10T00:27:53.827071400Z"
    }
   },
   "outputs": [],
   "source": [
    "import dotenv"
   ]
  },
  {
   "cell_type": "code",
   "execution_count": 9,
   "id": "3b630436",
   "metadata": {
    "ExecuteTime": {
     "end_time": "2023-10-10T00:27:53.870174600Z",
     "start_time": "2023-10-10T00:27:53.831214600Z"
    }
   },
   "outputs": [],
   "source": [
    "from dotenv import dotenv_values\n",
    "\n",
    "config = dotenv_values(\".env\")"
   ]
  },
  {
   "cell_type": "code",
   "execution_count": 10,
   "id": "b3cb65c7",
   "metadata": {
    "ExecuteTime": {
     "end_time": "2023-10-10T00:27:53.895145600Z",
     "start_time": "2023-10-10T00:27:53.839396300Z"
    }
   },
   "outputs": [
    {
     "ename": "KeyError",
     "evalue": "'OPENAI_API_KEY'",
     "output_type": "error",
     "traceback": [
      "\u001B[1;31m---------------------------------------------------------------------------\u001B[0m",
      "\u001B[1;31mKeyError\u001B[0m                                  Traceback (most recent call last)",
      "Cell \u001B[1;32mIn[10], line 1\u001B[0m\n\u001B[1;32m----> 1\u001B[0m openai\u001B[38;5;241m.\u001B[39mapi_key \u001B[38;5;241m=\u001B[39m \u001B[43mconfig\u001B[49m\u001B[43m[\u001B[49m\u001B[38;5;124;43m\"\u001B[39;49m\u001B[38;5;124;43mOPENAI_API_KEY\u001B[39;49m\u001B[38;5;124;43m\"\u001B[39;49m\u001B[43m]\u001B[49m\n",
      "\u001B[1;31mKeyError\u001B[0m: 'OPENAI_API_KEY'"
     ]
    }
   ],
   "source": [
    "openai.api_key = config[\"OPENAI_API_KEY\"]"
   ]
  },
  {
   "cell_type": "code",
   "execution_count": null,
   "id": "11746170",
   "metadata": {
    "ExecuteTime": {
     "start_time": "2023-10-10T00:27:53.854216300Z"
    }
   },
   "outputs": [],
   "source": [
    "# Record Some audio\n",
    "\n",
    "import wave\n",
    "import sys\n",
    "import pyaudio\n",
    "\n",
    "CHUNK = 1024\n",
    "FORMAT = pyaudio.paInt16\n",
    "CHANNELS = 1 if sys.platform == \"darwin\" else 2\n",
    "RATE = 44100\n",
    "\n",
    "\n",
    "def record_audio(seconds: int):\n",
    "    output_path = \"output.wav\"\n",
    "    with wave.open(output_path, \"wb\") as wf:\n",
    "        p = pyaudio.PyAudio()\n",
    "        wf.setnchannels(CHANNELS)\n",
    "        wf.setsampwidth(p.get_sample_size(FORMAT))\n",
    "        wf.setframerate(RATE)\n",
    "\n",
    "        stream = p.open(format=FORMAT, channels=CHANNELS, rate=RATE, input=True)\n",
    "\n",
    "        print(\"Recording...\")\n",
    "        for index in range(0, RATE // CHUNK * seconds):\n",
    "            if index % (RATE // CHUNK) == 0:\n",
    "                print(f\"{index // (RATE // CHUNK)} / {seconds}s\")\n",
    "            wf.writeframes(stream.read(CHUNK))\n",
    "        print(\"Done\")\n",
    "\n",
    "        stream.close()\n",
    "        p.terminate()\n",
    "    print(f\"File saved at {output_path}\")\n",
    "    return output_path"
   ]
  },
  {
   "cell_type": "code",
   "execution_count": null,
   "id": "c31322fa",
   "metadata": {
    "ExecuteTime": {
     "start_time": "2023-10-10T00:27:53.859204700Z"
    }
   },
   "outputs": [],
   "source": [
    "record_audio(10)"
   ]
  },
  {
   "cell_type": "code",
   "execution_count": null,
   "id": "9f7cbe12",
   "metadata": {
    "ExecuteTime": {
     "start_time": "2023-10-10T00:27:53.861199300Z"
    }
   },
   "outputs": [],
   "source": [
    "audio_file = open(\"output.wav\", \"rb\")"
   ]
  },
  {
   "cell_type": "code",
   "execution_count": null,
   "id": "d9a80031",
   "metadata": {
    "ExecuteTime": {
     "start_time": "2023-10-10T00:27:53.864190300Z"
    }
   },
   "outputs": [],
   "source": [
    "response = openai.Audio.transcribe(\n",
    "    model=\"whisper-1\",\n",
    "    file=audio_file\n",
    ")"
   ]
  },
  {
   "cell_type": "code",
   "execution_count": null,
   "id": "12f1be33",
   "metadata": {
    "ExecuteTime": {
     "start_time": "2023-10-10T00:27:53.865188100Z"
    }
   },
   "outputs": [],
   "source": [
    "response[\"text\"]"
   ]
  },
  {
   "cell_type": "code",
   "execution_count": null,
   "id": "c0af9906",
   "metadata": {
    "ExecuteTime": {
     "start_time": "2023-10-10T00:27:53.867182300Z"
    }
   },
   "outputs": [],
   "source": [
    "response_with_prompt = openai.Audio.transcribe(\n",
    "    model=\"whisper-1\",\n",
    "    file=audio_file,\n",
    "    prompt=\"man talking about OpenAI and DALL-E\"\n",
    ")"
   ]
  },
  {
   "cell_type": "code",
   "execution_count": null,
   "id": "7a216aea",
   "metadata": {
    "ExecuteTime": {
     "start_time": "2023-10-10T00:27:53.868179900Z"
    }
   },
   "outputs": [],
   "source": [
    "response_with_prompt[\"text\"]"
   ]
  }
 ],
 "metadata": {
  "kernelspec": {
   "display_name": "Python 3",
   "language": "python",
   "name": "python3"
  },
  "language_info": {
   "codemirror_mode": {
    "name": "ipython",
    "version": 3
   },
   "file_extension": ".py",
   "mimetype": "text/x-python",
   "name": "python",
   "nbconvert_exporter": "python",
   "pygments_lexer": "ipython3",
   "version": "3.8.8"
  }
 },
 "nbformat": 4,
 "nbformat_minor": 5
}
